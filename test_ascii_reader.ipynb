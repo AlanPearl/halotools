{
 "metadata": {
  "name": "",
  "signature": "sha256:0792b24c987a8cffe54b8240b195947b70a8a4bc7151da0d989e5f72683e9b60"
 },
 "nbformat": 3,
 "nbformat_minor": 0,
 "worksheets": [
  {
   "cells": [
    {
     "cell_type": "code",
     "collapsed": false,
     "input": [
      "import os\n",
      "from halotools.sim_manager import read_rockstar_hlists\n",
      "from halotools.utils import convert_to_ndarray\n",
      "reload(read_rockstar_hlists)\n",
      "Reader = read_rockstar_hlists.RockstarHlistReader"
     ],
     "language": "python",
     "metadata": {},
     "outputs": [],
     "prompt_number": 11
    },
    {
     "cell_type": "code",
     "collapsed": false,
     "input": [
      "def file_len(fname):\n",
      "    with open(fname) as f:\n",
      "        for i, l in enumerate(f):\n",
      "            pass\n",
      "            Nrows = i + 1\n",
      "    return Nrows"
     ],
     "language": "python",
     "metadata": {},
     "outputs": [],
     "prompt_number": 12
    },
    {
     "cell_type": "markdown",
     "metadata": {},
     "source": [
      "# Bolshoi Rockstar testing"
     ]
    },
    {
     "cell_type": "markdown",
     "metadata": {},
     "source": [
      "### Iteration 1: ALL rows"
     ]
    },
    {
     "cell_type": "code",
     "collapsed": false,
     "input": [
      "fname = '/Users/aphearin/.astropy/cache/halotools/raw_halo_catalogs/bolshoi/rockstar/hlist_0.07835.list'\n",
      "#scale(0)  vmax(16) x(17) y(18)  pid(5) Acc_Rate_1*Tdyn(64)"
     ],
     "language": "python",
     "metadata": {},
     "outputs": [],
     "prompt_number": 13
    },
    {
     "cell_type": "code",
     "collapsed": false,
     "input": [
      "dt = np.dtype([('scale', 'f4'), \n",
      "               ('vmax', 'f4'), \n",
      "               ('x', 'f4'), \n",
      "               ('y', 'f4'), \n",
      "               ('pid', 'i8'), \n",
      "               ('tdyn', 'f4'), \n",
      "               ])\n",
      "column_indices_to_keep = [0, 16, 17, 18, 5, 64]"
     ],
     "language": "python",
     "metadata": {},
     "outputs": [],
     "prompt_number": 14
    },
    {
     "cell_type": "code",
     "collapsed": false,
     "input": [
      "reader = Reader(fname, dt, column_indices_to_keep = column_indices_to_keep)"
     ],
     "language": "python",
     "metadata": {},
     "outputs": [],
     "prompt_number": 15
    },
    {
     "cell_type": "code",
     "collapsed": false,
     "input": [
      "reader.row_cuts"
     ],
     "language": "python",
     "metadata": {},
     "outputs": [
      {
       "metadata": {},
       "output_type": "pyout",
       "prompt_number": 16,
       "text": [
        "[(0, -inf, inf),\n",
        " (16, -inf, inf),\n",
        " (17, -inf, inf),\n",
        " (18, -inf, inf),\n",
        " (5, -inf, inf),\n",
        " (64, -inf, inf)]"
       ]
      }
     ],
     "prompt_number": 16
    },
    {
     "cell_type": "code",
     "collapsed": false,
     "input": [
      "reader.header_len()"
     ],
     "language": "python",
     "metadata": {},
     "outputs": [
      {
       "metadata": {},
       "output_type": "pyout",
       "prompt_number": 17,
       "text": [
        "58"
       ]
      }
     ],
     "prompt_number": 17
    },
    {
     "cell_type": "code",
     "collapsed": false,
     "input": [
      "result = reader.read_halocat()"
     ],
     "language": "python",
     "metadata": {},
     "outputs": [
      {
       "output_type": "stream",
       "stream": "stdout",
       "text": [
        "\n",
        "...Processing ASCII data of file: \n",
        "/Users/aphearin/.astropy/cache/halotools/raw_halo_catalogs/bolshoi/rockstar/hlist_0.07835.list\n",
        " \n",
        " Total number of rows containing halo catalog data = 58600\n",
        " Number of rows in detected header = 58 \n",
        "\n",
        "Total runtime to read in ASCII = 0.7 seconds\n"
       ]
      },
      {
       "output_type": "stream",
       "stream": "stdout",
       "text": [
        "\n",
        "\u0007\n"
       ]
      }
     ],
     "prompt_number": 18
    },
    {
     "cell_type": "code",
     "collapsed": false,
     "input": [
      "if len(result) != reader.data_len():\n",
      "    raise ValueError"
     ],
     "language": "python",
     "metadata": {},
     "outputs": [],
     "prompt_number": 19
    },
    {
     "cell_type": "markdown",
     "metadata": {},
     "source": [
      "### Iteration 2: cut on a single row"
     ]
    },
    {
     "cell_type": "code",
     "collapsed": false,
     "input": [
      "row_cuts = [(16, 50, float(\"inf\"))]\n",
      "\n",
      "reader = Reader(fname, dt, row_cuts = row_cuts, \n",
      "                column_indices_to_keep = column_indices_to_keep)"
     ],
     "language": "python",
     "metadata": {},
     "outputs": [],
     "prompt_number": 20
    },
    {
     "cell_type": "code",
     "collapsed": false,
     "input": [
      "reader.column_indices_to_keep"
     ],
     "language": "python",
     "metadata": {},
     "outputs": [
      {
       "metadata": {},
       "output_type": "pyout",
       "prompt_number": 21,
       "text": [
        "[0, 16, 17, 18, 5, 64]"
       ]
      }
     ],
     "prompt_number": 21
    },
    {
     "cell_type": "code",
     "collapsed": false,
     "input": [
      "reader.row_cuts"
     ],
     "language": "python",
     "metadata": {},
     "outputs": [
      {
       "metadata": {},
       "output_type": "pyout",
       "prompt_number": 22,
       "text": [
        "[(0, -inf, inf),\n",
        " (16, 50.0, inf),\n",
        " (17, -inf, inf),\n",
        " (18, -inf, inf),\n",
        " (5, -inf, inf),\n",
        " (64, -inf, inf)]"
       ]
      }
     ],
     "prompt_number": 22
    },
    {
     "cell_type": "code",
     "collapsed": false,
     "input": [
      "result2 = reader.read_halocat()"
     ],
     "language": "python",
     "metadata": {},
     "outputs": [
      {
       "output_type": "stream",
       "stream": "stdout",
       "text": [
        "\n",
        "...Processing ASCII data of file: \n",
        "/Users/aphearin/.astropy/cache/halotools/raw_halo_catalogs/bolshoi/rockstar/hlist_0.07835.list\n",
        " \n",
        " Total number of rows containing halo catalog data = 58600\n",
        " Number of rows in detected header = 58 \n",
        "\n",
        "Total runtime to read in ASCII = 0.7 seconds\n"
       ]
      },
      {
       "output_type": "stream",
       "stream": "stdout",
       "text": [
        "\n",
        "\u0007\n"
       ]
      }
     ],
     "prompt_number": 23
    },
    {
     "cell_type": "code",
     "collapsed": false,
     "input": [
      "print(len(result2))"
     ],
     "language": "python",
     "metadata": {},
     "outputs": [
      {
       "output_type": "stream",
       "stream": "stdout",
       "text": [
        "31829\n"
       ]
      }
     ],
     "prompt_number": 24
    },
    {
     "cell_type": "code",
     "collapsed": false,
     "input": [
      "result['vmax'].min()"
     ],
     "language": "python",
     "metadata": {},
     "outputs": [
      {
       "metadata": {},
       "output_type": "pyout",
       "prompt_number": 25,
       "text": [
        "29.700001"
       ]
      }
     ],
     "prompt_number": 25
    },
    {
     "cell_type": "code",
     "collapsed": false,
     "input": [
      "result2['vmax'].min()"
     ],
     "language": "python",
     "metadata": {},
     "outputs": [
      {
       "metadata": {},
       "output_type": "pyout",
       "prompt_number": 26,
       "text": [
        "50.0"
       ]
      }
     ],
     "prompt_number": 26
    },
    {
     "cell_type": "code",
     "collapsed": false,
     "input": [
      "len(result[result['vmax'] >= 50.])"
     ],
     "language": "python",
     "metadata": {},
     "outputs": [
      {
       "metadata": {},
       "output_type": "pyout",
       "prompt_number": 27,
       "text": [
        "31829"
       ]
      }
     ],
     "prompt_number": 27
    },
    {
     "cell_type": "markdown",
     "metadata": {},
     "source": [
      "### Iteration 3: cut on multiple rows\n"
     ]
    },
    {
     "cell_type": "code",
     "collapsed": false,
     "input": [
      "row_cuts = [(16, 50, 100), (17, 50, 150)]\n",
      "\n",
      "reader = Reader(fname, dt, row_cuts = row_cuts, \n",
      "                column_indices_to_keep = column_indices_to_keep)"
     ],
     "language": "python",
     "metadata": {},
     "outputs": [],
     "prompt_number": 28
    },
    {
     "cell_type": "code",
     "collapsed": false,
     "input": [
      "result3 = reader.read_halocat()"
     ],
     "language": "python",
     "metadata": {},
     "outputs": [
      {
       "output_type": "stream",
       "stream": "stdout",
       "text": [
        "\n",
        "...Processing ASCII data of file: \n",
        "/Users/aphearin/.astropy/cache/halotools/raw_halo_catalogs/bolshoi/rockstar/hlist_0.07835.list\n",
        " \n",
        " Total number of rows containing halo catalog data = 58600\n",
        " Number of rows in detected header = 58 \n",
        "\n",
        "Total runtime to read in ASCII = 0.7 seconds\n"
       ]
      },
      {
       "output_type": "stream",
       "stream": "stdout",
       "text": [
        "\n",
        "\u0007\n"
       ]
      }
     ],
     "prompt_number": 29
    },
    {
     "cell_type": "code",
     "collapsed": false,
     "input": [
      "len(result3)"
     ],
     "language": "python",
     "metadata": {},
     "outputs": [
      {
       "metadata": {},
       "output_type": "pyout",
       "prompt_number": 30,
       "text": [
        "11655"
       ]
      }
     ],
     "prompt_number": 30
    },
    {
     "cell_type": "code",
     "collapsed": false,
     "input": [
      "mask = (result['vmax'] >= 50.) & (result['vmax'] <= 100.) & (result['x'] >= 50.) & (result['x'] <= 150.)"
     ],
     "language": "python",
     "metadata": {},
     "outputs": [],
     "prompt_number": 31
    },
    {
     "cell_type": "code",
     "collapsed": false,
     "input": [
      "print(len(result[mask]))"
     ],
     "language": "python",
     "metadata": {},
     "outputs": [
      {
       "output_type": "stream",
       "stream": "stdout",
       "text": [
        "11655\n"
       ]
      }
     ],
     "prompt_number": 32
    },
    {
     "cell_type": "markdown",
     "metadata": {},
     "source": [
      "# Now for a large file"
     ]
    },
    {
     "cell_type": "code",
     "collapsed": false,
     "input": [
      "fname = '/Volumes/NbodyDisk1/July19_new_catalogs/raw_halo_catalogs/consuelo/rockstar/hlist_0.33324.list'"
     ],
     "language": "python",
     "metadata": {},
     "outputs": [],
     "prompt_number": 45
    },
    {
     "cell_type": "code",
     "collapsed": false,
     "input": [
      "##scale(0) id(1) desc_scale(2) desc_id(3) num_prog(4) pid(5) upid(6) \n",
      "# desc_pid(7) phantom(8) sam_mvir(9) mvir(10) rvir(11) rs(12) vrms(13) \n",
      "#mmp?(14) scale_of_last_MM(15) vmax(16) x(17) y(18) z(19) vx(20) vy(21) vz(22) \n",
      "#Jx(23) Jy(24) Jz(25) Spin(26) Breadth_first_ID(27) Depth_first_ID(28) Tree_root_ID(29) \n",
      "#Orig_halo_ID(30) Snap_num(31) Next_coprogenitor_depthfirst_ID(32) Last_progenitor_depthfirst_ID(33) \n",
      "#Last_mainleaf_depthfirst_ID(34) Rs_Klypin(35) Mvir_all(36) M200b(37) M200c(38) M500c(39) M2500c(40) \n",
      "#Xoff(41) Voff(42) Spin_Bullock(43) b_to_a(44) c_to_a(45) A[x](46) A[y](47) A[z](48) b_to_a(500c)(49) c_to_a(500c)(50) \n",
      "#A[x](500c)(51) A[y](500c)(52) A[z](500c)(53) T/|U|(54) M_pe_Behroozi(55) M_pe_Diemer(56) \n",
      "#Halfmass_Radius(57) Macc(58) Mpeak(59) Vacc(60) Vpeak(61) Halfmass_Scale(62) \n",
      "#Acc_Rate_Inst(63) Acc_Rate_100Myr(64) Acc_Rate_1*Tdyn(65) Acc_Rate_2*Tdyn(66) Acc_Rate_Mpeak(67) \n",
      "#Mpeak_Scale(68) Acc_Scale(69) First_Acc_Scale(70) First_Acc_Mvir(71) First_Acc_Vmax(72) Vmax@Mpeak(73)\n"
     ],
     "language": "python",
     "metadata": {},
     "outputs": [],
     "prompt_number": 44
    },
    {
     "cell_type": "code",
     "collapsed": false,
     "input": [
      "dt = np.dtype([('halo_scale_factor', 'f4'), \n",
      "               ('halo_vmax', 'f4'), \n",
      "               ('halo_mpeak', 'f4'), \n",
      "               ('halo_x', 'f4'), \n",
      "               ('halo_y', 'f4'), \n",
      "               ('halo_z', 'f4')\n",
      "               ])\n",
      "column_indices_to_keep = [0, 16, 59, 17, 18, 19]\n",
      "row_cuts = [(59, 5e10, float(\"inf\"))]"
     ],
     "language": "python",
     "metadata": {},
     "outputs": [],
     "prompt_number": 47
    },
    {
     "cell_type": "code",
     "collapsed": false,
     "input": [
      "reader = Reader(fname, dt, row_cuts = row_cuts, \n",
      "                column_indices_to_keep = column_indices_to_keep)"
     ],
     "language": "python",
     "metadata": {},
     "outputs": [],
     "prompt_number": 48
    },
    {
     "cell_type": "code",
     "collapsed": false,
     "input": [
      "result = reader.read_halocat()"
     ],
     "language": "python",
     "metadata": {},
     "outputs": [
      {
       "output_type": "stream",
       "stream": "stdout",
       "text": [
        "\n",
        "...Processing ASCII data of file: \n",
        "/Volumes/NbodyDisk1/July19_new_catalogs/raw_halo_catalogs/consuelo/rockstar/hlist_0.33324.list\n",
        " \n",
        " Total number of rows in file = 6348065\n",
        " Number of rows in detected header = 58 \n",
        "\n",
        "...Reading catalog in 100 chunks, each with 63480 rows\n",
        "\n",
        "Total runtime to read in ASCII = 1.9 minutes\n"
       ]
      },
      {
       "output_type": "stream",
       "stream": "stdout",
       "text": [
        "\n"
       ]
      }
     ],
     "prompt_number": 51
    },
    {
     "cell_type": "code",
     "collapsed": false,
     "input": [
      "result = reader.read_halocat(Nchunks = 1000)"
     ],
     "language": "python",
     "metadata": {},
     "outputs": [
      {
       "output_type": "stream",
       "stream": "stdout",
       "text": [
        "\n",
        "...Processing ASCII data of file: \n",
        "/Volumes/NbodyDisk1/July19_new_catalogs/raw_halo_catalogs/consuelo/rockstar/hlist_0.33324.list\n",
        " \n",
        " Total number of rows in file = 6348065\n",
        " Number of rows in detected header = 58 \n",
        "\n",
        "...Reading catalog in 1000 chunks, each with 6348 rows\n",
        "\n",
        "Total runtime to read in ASCII = 2.5 minutes\n"
       ]
      },
      {
       "output_type": "stream",
       "stream": "stdout",
       "text": [
        "\n"
       ]
      }
     ],
     "prompt_number": 52
    },
    {
     "cell_type": "code",
     "collapsed": false,
     "input": [
      "result9 = reader.read_halocat(Nchunks = 9)"
     ],
     "language": "python",
     "metadata": {},
     "outputs": [
      {
       "output_type": "stream",
       "stream": "stdout",
       "text": [
        "\n",
        "...Processing ASCII data of file: \n",
        "/Volumes/NbodyDisk1/July19_new_catalogs/raw_halo_catalogs/consuelo/rockstar/hlist_0.33324.list\n",
        " \n",
        " Total number of rows in file = 6348065\n",
        " Number of rows in detected header = 58 \n",
        "\n",
        "...Reading catalog in 9 chunks, each with 705340 rows\n",
        "\n",
        "Total runtime to read in ASCII = 1.9 minutes\n"
       ]
      },
      {
       "output_type": "stream",
       "stream": "stdout",
       "text": [
        "\n"
       ]
      }
     ],
     "prompt_number": 53
    },
    {
     "cell_type": "code",
     "collapsed": false,
     "input": [
      "print(len(result))\n",
      "print(len(result9))"
     ],
     "language": "python",
     "metadata": {},
     "outputs": [
      {
       "output_type": "stream",
       "stream": "stdout",
       "text": [
        "3654407\n",
        "3654407\n"
       ]
      }
     ],
     "prompt_number": 55
    },
    {
     "cell_type": "code",
     "collapsed": false,
     "input": [
      "del reader"
     ],
     "language": "python",
     "metadata": {},
     "outputs": [],
     "prompt_number": 58
    },
    {
     "cell_type": "code",
     "collapsed": false,
     "input": [
      "fname = '/Volumes/NbodyDisk1/July19_new_catalogs/raw_halo_catalogs/consuelo/rockstar/hlist_0.33324.list.gz'"
     ],
     "language": "python",
     "metadata": {},
     "outputs": [],
     "prompt_number": 61
    },
    {
     "cell_type": "code",
     "collapsed": false,
     "input": [
      "reader = Reader(fname, dt, row_cuts = row_cuts, \n",
      "                column_indices_to_keep = column_indices_to_keep)"
     ],
     "language": "python",
     "metadata": {},
     "outputs": [],
     "prompt_number": 62
    },
    {
     "cell_type": "code",
     "collapsed": false,
     "input": [
      "compressed_result = reader.read_halocat(Nchunks = 9)"
     ],
     "language": "python",
     "metadata": {},
     "outputs": [
      {
       "output_type": "stream",
       "stream": "stdout",
       "text": [
        "\n",
        "...Processing ASCII data of file: \n",
        "/Volumes/NbodyDisk1/July19_new_catalogs/raw_halo_catalogs/consuelo/rockstar/hlist_0.33324.list.gz\n",
        " \n",
        " Total number of rows in file = 6348065\n",
        " Number of rows in detected header = 58 \n",
        "\n",
        "...Reading catalog in 9 chunks, each with 705340 rows\n",
        "\n",
        "Total runtime to read in ASCII = 3.5 minutes\n"
       ]
      },
      {
       "output_type": "stream",
       "stream": "stdout",
       "text": [
        "\n"
       ]
      }
     ],
     "prompt_number": 63
    },
    {
     "cell_type": "code",
     "collapsed": false,
     "input": [
      "np.all(compressed_result == result9)"
     ],
     "language": "python",
     "metadata": {},
     "outputs": [
      {
       "metadata": {},
       "output_type": "pyout",
       "prompt_number": 64,
       "text": [
        "True"
       ]
      }
     ],
     "prompt_number": 64
    },
    {
     "cell_type": "markdown",
     "metadata": {},
     "source": [
      "# Convenience class testing"
     ]
    },
    {
     "cell_type": "code",
     "collapsed": false,
     "input": [
      "from halotools.sim_manager import halotools_rockstar_catalog_reader\n",
      "reload(halotools_rockstar_catalog_reader)\n",
      "Reader = halotools_rockstar_catalog_reader.HalotoolsRockstarCatalogReader"
     ],
     "language": "python",
     "metadata": {},
     "outputs": [],
     "prompt_number": 1
    },
    {
     "cell_type": "code",
     "collapsed": false,
     "input": [
      "fname = '/Users/aphearin/.astropy/cache/halotools/raw_halo_catalogs/bolshoi/rockstar/hlist_0.07835.list'\n",
      "simname = 'bolshoi'\n",
      "halo_finder = 'rockstar'"
     ],
     "language": "python",
     "metadata": {},
     "outputs": [],
     "prompt_number": 2
    },
    {
     "cell_type": "code",
     "collapsed": false,
     "input": [
      "reader = Reader(fname, simname, halo_finder)"
     ],
     "language": "python",
     "metadata": {},
     "outputs": [],
     "prompt_number": 3
    },
    {
     "cell_type": "code",
     "collapsed": false,
     "input": [
      "result = reader.read_halocat()"
     ],
     "language": "python",
     "metadata": {},
     "outputs": [
      {
       "output_type": "stream",
       "stream": "stdout",
       "text": [
        "\n",
        "...Processing ASCII data of file: \n",
        "/Users/aphearin/.astropy/cache/halotools/raw_halo_catalogs/bolshoi/rockstar/hlist_0.07835.list\n",
        " \n",
        " Total number of rows containing halo catalog data = 58600\n",
        " Number of rows in detected header = 58 \n",
        "\n",
        "Total runtime to read in ASCII = 2.6 seconds\n"
       ]
      },
      {
       "output_type": "stream",
       "stream": "stdout",
       "text": [
        "\n",
        "\u0007\n"
       ]
      }
     ],
     "prompt_number": 4
    },
    {
     "cell_type": "code",
     "collapsed": false,
     "input": [
      "column_names_to_keep = ['halo_vmax', 'halo_upid']\n",
      "reader = Reader(fname, simname, halo_finder, \n",
      "                column_names_to_keep = column_names_to_keep)"
     ],
     "language": "python",
     "metadata": {},
     "outputs": [],
     "prompt_number": 5
    },
    {
     "cell_type": "code",
     "collapsed": false,
     "input": [
      "result = reader.read_halocat()"
     ],
     "language": "python",
     "metadata": {},
     "outputs": [
      {
       "output_type": "stream",
       "stream": "stdout",
       "text": [
        "\n",
        "...Processing ASCII data of file: \n",
        "/Users/aphearin/.astropy/cache/halotools/raw_halo_catalogs/bolshoi/rockstar/hlist_0.07835.list\n",
        " \n",
        " Total number of rows containing halo catalog data = 58600\n",
        " Number of rows in detected header = 58 \n",
        "\n",
        "Total runtime to read in ASCII = 0.7 seconds\n"
       ]
      },
      {
       "output_type": "stream",
       "stream": "stdout",
       "text": [
        "\n",
        "\u0007\n"
       ]
      }
     ],
     "prompt_number": 6
    },
    {
     "cell_type": "code",
     "collapsed": false,
     "input": [
      "column_names_to_keep = ['halo_vmax', 'halo_upid']\n",
      "reader = Reader(fname, simname, halo_finder, \n",
      "                column_names_to_keep = column_names_to_keep)"
     ],
     "language": "python",
     "metadata": {},
     "outputs": [],
     "prompt_number": 8
    },
    {
     "cell_type": "code",
     "collapsed": false,
     "input": [
      "row_cuts = [('halo_vmax', 50, 100)]\n",
      "reader = Reader(fname, simname, halo_finder, \n",
      "                column_names_to_keep = column_names_to_keep, \n",
      "                row_cuts = row_cuts)"
     ],
     "language": "python",
     "metadata": {},
     "outputs": [],
     "prompt_number": 9
    },
    {
     "cell_type": "code",
     "collapsed": false,
     "input": [
      "result = reader.read_halocat()"
     ],
     "language": "python",
     "metadata": {},
     "outputs": [
      {
       "output_type": "stream",
       "stream": "stdout",
       "text": [
        "\n",
        "...Processing ASCII data of file: \n",
        "/Users/aphearin/.astropy/cache/halotools/raw_halo_catalogs/bolshoi/rockstar/hlist_0.07835.list\n",
        " \n",
        " Total number of rows containing halo catalog data = 58600\n",
        " Number of rows in detected header = 58 \n",
        "\n",
        "Total runtime to read in ASCII = 0.7 seconds\n"
       ]
      },
      {
       "output_type": "stream",
       "stream": "stdout",
       "text": [
        "\n",
        "\u0007\n"
       ]
      }
     ],
     "prompt_number": 10
    },
    {
     "cell_type": "code",
     "collapsed": false,
     "input": [],
     "language": "python",
     "metadata": {},
     "outputs": []
    }
   ],
   "metadata": {}
  }
 ]
}