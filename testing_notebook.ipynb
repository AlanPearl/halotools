{
 "metadata": {
  "name": "",
  "signature": "sha256:90c7789067f9370dfdfbe93668096b21fad66e403477f24e730ba3aab3cee763"
 },
 "nbformat": 3,
 "nbformat_minor": 0,
 "worksheets": [
  {
   "cells": [
    {
     "cell_type": "code",
     "collapsed": false,
     "input": [
      "from halotools.sim_manager import manipulate_cache_log\n",
      "from halotools.sim_manager.tests import helper_functions"
     ],
     "language": "python",
     "metadata": {},
     "outputs": [],
     "prompt_number": 3
    },
    {
     "cell_type": "code",
     "collapsed": false,
     "input": [
      "        scenario = 0\n",
      "        cache_dirname = helper_functions.get_scenario_cache_fname(scenario)\n",
      "        cache_fname = os.path.join(cache_dirname, helper_functions.cache_basename)\n",
      "        try:\n",
      "            os.makedirs(cache_dirname)\n",
      "        except OSError:\n",
      "            pass\n"
     ],
     "language": "python",
     "metadata": {},
     "outputs": [],
     "prompt_number": 2
    },
    {
     "cell_type": "code",
     "collapsed": false,
     "input": [],
     "language": "python",
     "metadata": {},
     "outputs": [],
     "prompt_number": 2
    },
    {
     "cell_type": "code",
     "collapsed": false,
     "input": [],
     "language": "python",
     "metadata": {},
     "outputs": [],
     "prompt_number": 2
    },
    {
     "cell_type": "code",
     "collapsed": false,
     "input": [],
     "language": "python",
     "metadata": {},
     "outputs": []
    }
   ],
   "metadata": {}
  }
 ]
}