{
 "metadata": {
  "name": "",
  "signature": "sha256:9fc287d0490611f4a7d555ef462a430495ee403a46d7824f58030a7c26c17f52"
 },
 "nbformat": 3,
 "nbformat_minor": 0,
 "worksheets": [
  {
   "cells": [
    {
     "cell_type": "code",
     "collapsed": false,
     "input": [
      "from halotools.sim_manager import manipulate_cache_log\n",
      "from halotools.sim_manager.tests import helper_functions\n",
      "import os\n",
      "\n",
      "try:\n",
      "    os.system('rm -rf /Users/aphearin/Desktop/tmp_dummy_cache')\n",
      "except OSError:\n",
      "    pass"
     ],
     "language": "python",
     "metadata": {},
     "outputs": [],
     "prompt_number": 1
    },
    {
     "cell_type": "code",
     "collapsed": false,
     "input": [
      "scenario = 0\n",
      "cache_dirname = helper_functions.get_scenario_cache_fname(scenario)\n",
      "cache_fname = os.path.join(cache_dirname, helper_functions.cache_basename)\n",
      "try:\n",
      "    os.makedirs(cache_dirname)\n",
      "except OSError:\n",
      "    pass\n"
     ],
     "language": "python",
     "metadata": {},
     "outputs": [],
     "prompt_number": 2
    },
    {
     "cell_type": "code",
     "collapsed": false,
     "input": [
      "updated_log = helper_functions.add_new_row_to_cache_log(scenario, \n",
      "    'bolshoi', 'rockstar', 0.00004, 'alpha.version0')\n",
      "helper_functions.create_halo_table_hdf5(updated_log[-1])\n"
     ],
     "language": "python",
     "metadata": {},
     "outputs": [],
     "prompt_number": 3
    },
    {
     "cell_type": "code",
     "collapsed": false,
     "input": [
      "manipulate_cache_log.overwrite_halo_table_cache_log(updated_log, cache_fname = cache_fname)\n"
     ],
     "language": "python",
     "metadata": {},
     "outputs": [],
     "prompt_number": 4
    },
    {
     "cell_type": "code",
     "collapsed": false,
     "input": [
      "t = manipulate_cache_log.read_halo_table_cache_log(cache_fname = cache_fname)\n",
      "print(t)"
     ],
     "language": "python",
     "metadata": {},
     "outputs": [
      {
       "output_type": "stream",
       "stream": "stdout",
       "text": [
        " version_name  simname ... halo_finder redshift\n",
        "-------------- ------- ... ----------- --------\n",
        "alpha.version0 bolshoi ...    rockstar      0.0\n"
       ]
      }
     ],
     "prompt_number": 5
    },
    {
     "cell_type": "code",
     "collapsed": false,
     "input": [
      "fname = updated_log['fname'][0]\n",
      "t = manipulate_cache_log.load_cached_halo_table_from_fname(fname, \n",
      "                                                           cache_fname = cache_fname)"
     ],
     "language": "python",
     "metadata": {},
     "outputs": [],
     "prompt_number": 10
    },
    {
     "cell_type": "code",
     "collapsed": false,
     "input": [],
     "language": "python",
     "metadata": {},
     "outputs": []
    }
   ],
   "metadata": {}
  }
 ]
}