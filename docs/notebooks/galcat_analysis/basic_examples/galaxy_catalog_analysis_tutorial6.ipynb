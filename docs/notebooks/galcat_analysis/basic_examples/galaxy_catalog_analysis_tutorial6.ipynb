{
 "metadata": {
  "name": "",
  "signature": "sha256:f6e9184bc73dbd69c317d628f5395ffa4b6550621a7b474a57e4b5b36103bbf2"
 },
 "nbformat": 3,
 "nbformat_minor": 0,
 "worksheets": [
  {
   "cells": [
    {
     "cell_type": "heading",
     "level": 1,
     "metadata": {},
     "source": [
      "Example 6: Mean infall velocity into cluster BCGs\n"
     ]
    },
    {
     "cell_type": "markdown",
     "metadata": {},
     "source": [
      "In this example we'll show how to calculate the mean infall velocity of galaxies towards the cluster BCGs. "
     ]
    },
    {
     "cell_type": "heading",
     "level": 2,
     "metadata": {},
     "source": [
      "Generate a mock galaxy catalog \n"
     ]
    },
    {
     "cell_type": "markdown",
     "metadata": {},
     "source": [
      "Let's start out by generating a mock galaxy catalog into an N-body\n",
      "simulation in the usual way. Here we'll assume you have the z=0\n",
      "rockstar halos for the bolshoi simulation, as this is the\n",
      "default halo catalog. \n"
     ]
    },
    {
     "cell_type": "code",
     "collapsed": false,
     "input": [
      "from halotools.empirical_models import PrebuiltSubhaloModelFactory\n",
      "model = PrebuiltSubhaloModelFactory('smhm_binary_sfr')\n",
      "model.populate_mock(simname = 'multidark', redshift = 0, halo_finder = 'rockstar')\n"
     ],
     "language": "python",
     "metadata": {},
     "outputs": [],
     "prompt_number": 1
    },
    {
     "cell_type": "markdown",
     "metadata": {},
     "source": [
      "Our mock galaxies are stored in the ``galaxy_table`` of ``model.mock``\n",
      "in the form of an Astropy Table.\n"
     ]
    },
    {
     "cell_type": "heading",
     "level": 2,
     "metadata": {},
     "source": [
      "Extract the position and velocity coordinates"
     ]
    },
    {
     "cell_type": "code",
     "collapsed": false,
     "input": [
      "from halotools.mock_observables import return_xyz_formatted_array, mean_radial_velocity_vs_r"
     ],
     "language": "python",
     "metadata": {},
     "outputs": [],
     "prompt_number": 2
    },
    {
     "cell_type": "code",
     "collapsed": false,
     "input": [
      "cluster_central_mask = (model.mock.galaxy_table['stellar_mass'] > 10**11.75)\n",
      "cluster_centrals = model.mock.galaxy_table[cluster_central_mask]\n",
      "\n",
      "low_mass_tracers_mask = ((model.mock.galaxy_table['stellar_mass'] > 10**10.75) & \n",
      "                         (model.mock.galaxy_table['stellar_mass'] < 10**11))\n",
      "low_mass_tracers = model.mock.galaxy_table[low_mass_tracers_mask]\n"
     ],
     "language": "python",
     "metadata": {},
     "outputs": [],
     "prompt_number": 3
    },
    {
     "cell_type": "code",
     "collapsed": false,
     "input": [
      "cluster_pos = return_xyz_formatted_array(cluster_centrals['x'], cluster_centrals['y'] ,cluster_centrals['z'])\n",
      "cluster_vel = return_xyz_formatted_array(cluster_centrals['vx'], cluster_centrals['vy'] ,cluster_centrals['vz'])\n",
      "\n",
      "low_mass_tracers_pos = return_xyz_formatted_array(low_mass_tracers['x'], low_mass_tracers['y'] ,low_mass_tracers['z'])\n",
      "low_mass_tracers_vel = return_xyz_formatted_array(low_mass_tracers['vx'], low_mass_tracers['vy'] ,low_mass_tracers['vz'])\n",
      "\n"
     ],
     "language": "python",
     "metadata": {},
     "outputs": [],
     "prompt_number": 4
    },
    {
     "cell_type": "heading",
     "level": 2,
     "metadata": {},
     "source": [
      "Calculate $<V_{\\rm rad}>(r)$"
     ]
    },
    {
     "cell_type": "code",
     "collapsed": false,
     "input": [
      "rbins = np.logspace(-0.5, 1.25, 15)\n",
      "rbin_midpoints = (rbins[1:] + rbins[:-1])/2.\n",
      "\n",
      "vr_clusters = mean_radial_velocity_vs_r(cluster_pos, cluster_vel, rbins, \n",
      "                                      sample2=low_mass_tracers_pos, velocities2=low_mass_tracers_vel, \n",
      "                                      period = model.mock.Lbox, do_auto=False, do_cross=True)"
     ],
     "language": "python",
     "metadata": {},
     "outputs": [],
     "prompt_number": 5
    },
    {
     "cell_type": "heading",
     "level": 3,
     "metadata": {},
     "source": [
      "Plot the result"
     ]
    },
    {
     "cell_type": "code",
     "collapsed": false,
     "input": [
      "%matplotlib inline\n",
      "from seaborn import plt\n",
      "\n",
      "plt.plot(rbin_midpoints, vr_clusters, color='k')\n",
      "plt.xscale('log')\n",
      "plt.xlim(xmin = 0.5, xmax=20)\n",
      "plt.ylim(ymin = -500, ymax = 10)\n",
      "plt.xticks(fontsize=20)\n",
      "plt.yticks(fontsize=20)\n",
      "plt.xlabel(r'$r $  $\\rm{[Mpc]}$', fontsize=25)\n",
      "plt.ylabel(r'$\\langle V_{\\rm rad}\\rangle$  $[{\\rm km/s}]$', fontsize=25)\n",
      "plt.title('Radial infall velocity into cluster BCGs', fontsize=20)\n"
     ],
     "language": "python",
     "metadata": {},
     "outputs": [
      {
       "metadata": {},
       "output_type": "pyout",
       "prompt_number": 8,
       "text": [
        "<matplotlib.text.Text at 0x1177c9390>"
       ]
      },
      {
       "metadata": {},
       "output_type": "display_data",
       "png": "[encoded data removed]",
       "text": [
        "<matplotlib.figure.Figure at 0x1163f4690>"
       ]
      }
     ],
     "prompt_number": 8
    },
    {
     "cell_type": "code",
     "collapsed": false,
     "input": [],
     "language": "python",
     "metadata": {},
     "outputs": [],
     "prompt_number": 6
    }
   ],
   "metadata": {}
  }
 ]
}