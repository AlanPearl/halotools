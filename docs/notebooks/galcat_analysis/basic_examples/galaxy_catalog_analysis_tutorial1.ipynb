{
 "metadata": {
  "name": "",
  "signature": "sha256:c8829ba451b2c081c23268ac89023d562869d883c130a538fbd20454ad2adc29"
 },
 "nbformat": 3,
 "nbformat_minor": 0,
 "worksheets": [
  {
   "cells": [
    {
     "cell_type": "heading",
     "level": 1,
     "metadata": {},
     "source": [
      "Example 1: Galaxy properties as a function of halo mass\n"
     ]
    },
    {
     "cell_type": "markdown",
     "metadata": {},
     "source": [
      "In this example, we'll show how to start from a sample of mock galaxies \n",
      "and calculate how various galaxies properties scale with halo mass. \n"
     ]
    },
    {
     "cell_type": "heading",
     "level": 2,
     "metadata": {},
     "source": [
      "Generate a mock galaxy catalog \n"
     ]
    },
    {
     "cell_type": "markdown",
     "metadata": {},
     "source": [
      "Let's start out by generating a mock galaxy catalog into an N-body\n",
      "simulation in the usual way. Here we'll assume you have the :math:`z=0`\n",
      "rockstar halos for the bolshoi simulation, as this is the\n",
      "default halo catalog. \n"
     ]
    },
    {
     "cell_type": "code",
     "collapsed": false,
     "input": [
      "from halotools.empirical_models import PrebuiltSubhaloModelFactory\n",
      "model = PrebuiltSubhaloModelFactory('smhm_binary_sfr')"
     ],
     "language": "python",
     "metadata": {},
     "outputs": [],
     "prompt_number": 1
    },
    {
     "cell_type": "code",
     "collapsed": false,
     "input": [
      "model.populate_mock(simname = 'bolshoi', redshift = 0, halo_finder = 'rockstar')"
     ],
     "language": "python",
     "metadata": {},
     "outputs": [],
     "prompt_number": 2
    },
    {
     "cell_type": "markdown",
     "metadata": {},
     "source": [
      "Now suppose the data we are interested in is complete for\n",
      "$M_{\\ast} > 10^{10}M_{\\odot},$ so we will make a cut on the mock.\n",
      "Our mock galaxies are stored in the ``galaxy_table`` of ``model.mock``\n",
      "in the form of an Astropy `Table`.\n"
     ]
    },
    {
     "cell_type": "code",
     "collapsed": false,
     "input": [
      "sample_mask = model.mock.galaxy_table['stellar_mass'] > 1e10\n",
      "gals = model.mock.galaxy_table[sample_mask]\n"
     ],
     "language": "python",
     "metadata": {},
     "outputs": [],
     "prompt_number": 3
    },
    {
     "cell_type": "heading",
     "level": 2,
     "metadata": {},
     "source": [
      "Calculate total stellar mass $M_{\\ast}^{\\rm tot}$ in each halo"
     ]
    },
    {
     "cell_type": "code",
     "collapsed": false,
     "input": [
      "from halotools.utils import group_member_generator"
     ],
     "language": "python",
     "metadata": {},
     "outputs": [],
     "prompt_number": 4
    },
    {
     "cell_type": "code",
     "collapsed": false,
     "input": [
      "gals.sort('halo_id')\n",
      "grouping_key = 'halo_id'\n",
      "requested_columns = ['stellar_mass']\n",
      "group_gen = group_member_generator(gals, grouping_key, requested_columns)\n",
      "\n",
      "total_stellar_mass = np.zeros(len(gals))\n",
      "for first, last, member_props in group_gen:\n",
      "    stellar_mass_of_members = member_props[0]\n",
      "    total_stellar_mass[first:last] = sum(stellar_mass_of_members)\n",
      "\n",
      "gals['halo_total_stellar_mass'] = total_stellar_mass"
     ],
     "language": "python",
     "metadata": {},
     "outputs": [],
     "prompt_number": 9
    },
    {
     "cell_type": "markdown",
     "metadata": {},
     "source": [
      "Our ``gals`` table now has a ``halo_total_stellar_mass`` column.\n"
     ]
    },
    {
     "cell_type": "heading",
     "level": 2,
     "metadata": {},
     "source": [
      "Calculate host halo mass $M_{\\rm host}$ of each galaxy\n"
     ]
    },
    {
     "cell_type": "code",
     "collapsed": false,
     "input": [
      "gals.sort(['halo_id', 'halo_upid'])\n",
      "grouping_key = 'halo_id'\n",
      "requested_columns = ['halo_mvir']\n",
      "group_gen = group_member_generator(gals, grouping_key, requested_columns)\n",
      "\n",
      "host_mass = np.zeros(len(gals))\n",
      "for first, last, member_props in group_gen:\n",
      "    mvir_members = member_props[0]\n",
      "    mvir_host = mvir_members[0]\n",
      "    host_mass[first:last] = mvir_host\n",
      "\n",
      "gals['halo_mhost'] = host_mass"
     ],
     "language": "python",
     "metadata": {},
     "outputs": [],
     "prompt_number": 10
    },
    {
     "cell_type": "markdown",
     "metadata": {},
     "source": [
      "Our ``gals`` table now has a ``halo_mhost`` column.\n"
     ]
    },
    {
     "cell_type": "heading",
     "level": 2,
     "metadata": {},
     "source": [
      "Calculate $\\langle M_{\\ast}^{\\rm tot}\\rangle$ vs. $M_{\\rm halo}$\n"
     ]
    },
    {
     "cell_type": "code",
     "collapsed": false,
     "input": [
      "from halotools.mock_observables import mean_y_vs_x\n",
      "\n",
      "bins = np.logspace(12, 14.5, 20)\n",
      "result = mean_y_vs_x(gals['halo_mhost'].data,\n",
      "                     gals['halo_total_stellar_mass'].data,\n",
      "                     bins = bins,\n",
      "                     error_estimator = 'variance')\n",
      "\n",
      "host_mass, mean_stellar_mass, mean_stellar_mass_err = result\n"
     ],
     "language": "python",
     "metadata": {},
     "outputs": [],
     "prompt_number": 13
    },
    {
     "cell_type": "heading",
     "level": 3,
     "metadata": {},
     "source": [
      "Plot the result"
     ]
    },
    {
     "cell_type": "code",
     "collapsed": false,
     "input": [
      "%matplotlib inline\n",
      "from seaborn import plt\n",
      "\n",
      "plt.errorbar(host_mass, mean_stellar_mass, yerr=mean_stellar_mass_err,\n",
      "             fmt = \"none\", ecolor='gray')\n",
      "plt.plot(host_mass, mean_stellar_mass, 'D', color='k')\n",
      "\n",
      "plt.loglog()\n",
      "plt.xticks(size=18)\n",
      "plt.yticks(size=18)\n",
      "plt.xlabel(r'$M_{\\rm halo}/M_{\\odot}$', fontsize=25)\n",
      "plt.ylabel(r'$\\langle M_{\\ast}^{\\rm tot}/M_{\\odot}\\rangle$', fontsize=25)\n",
      "plt.ylim(ymax=2e12)"
     ],
     "language": "python",
     "metadata": {},
     "outputs": [
      {
       "metadata": {},
       "output_type": "pyout",
       "prompt_number": 14,
       "text": [
        "(10000000000.0, 2000000000000.0)"
       ]
      },
      {
       "metadata": {},
       "output_type": "display_data",
       "png": "[encoded data removed]",
       "text": [
        "<matplotlib.figure.Figure at 0x118e211d0>"
       ]
      }
     ],
     "prompt_number": 14
    },
    {
     "cell_type": "heading",
     "level": 2,
     "metadata": {},
     "source": [
      "Quiescent fraction of centrals and satellites\n"
     ]
    },
    {
     "cell_type": "markdown",
     "metadata": {},
     "source": [
      "In this section we'll perform a very similar calculation to the above, only here we'll compute the average quiescent fraction of centrals and satellites. \n"
     ]
    },
    {
     "cell_type": "heading",
     "level": 3,
     "metadata": {},
     "source": [
      "Calculate $\\langle F_{\\rm q}^{\\rm cen}\\vert M_{\\rm halo} \\rangle$ and $\\langle F_{\\rm q}^{\\rm sat} \\vert M_{\\rm halo}\\rangle$\n"
     ]
    },
    {
     "cell_type": "markdown",
     "metadata": {},
     "source": [
      "In the above calculation, we needed to create new columns for our galaxy catalog, $M_{\\rm host}$ and $M_{\\ast}^{\\rm tot}$. Here we'll reuse the $M_{\\rm host}$ column, and our model already created a boolean-valued ``quiescent`` column for our galaxies. So all we need to do is calculate the average trends as a function of halo mass. \n"
     ]
    },
    {
     "cell_type": "code",
     "collapsed": false,
     "input": [
      "cens_mask = gals['halo_upid'] == -1\n",
      "cens = gals[cens_mask]\n",
      "sats = gals[~cens_mask]\n",
      "\n",
      "bins = np.logspace(12, 14.5, 15)\n",
      "\n",
      "# centrals \n",
      "result = mean_y_vs_x(cens['halo_mhost'].data, cens['quiescent'].data, \n",
      "            bins = bins)\n",
      "host_mass, fq_cens, fq_cens_err_on_mean = result \n",
      "\n",
      "# satellites \n",
      "result = mean_y_vs_x(sats['halo_mhost'].data, sats['quiescent'].data, \n",
      "            bins = bins)\n",
      "host_mass, fq_sats, fq_sats_err_on_mean = result \n"
     ],
     "language": "python",
     "metadata": {},
     "outputs": [],
     "prompt_number": 15
    },
    {
     "cell_type": "heading",
     "level": 3,
     "metadata": {},
     "source": [
      "Plot the result and compare it to the underlying analytical relation\n"
     ]
    },
    {
     "cell_type": "code",
     "collapsed": false,
     "input": [
      "plt.errorbar(host_mass, fq_cens, yerr=fq_cens_err_on_mean, \n",
      "             color='seagreen', fmt = \"none\")\n",
      "plt.plot(host_mass, fq_cens, 'D', color='seagreen', \n",
      "             label = 'galaxy population')\n",
      "\n",
      "analytic_result_mhost_bins = np.logspace(10, 15.5, 100)\n",
      "analytic_result_mean_quiescent_fraction = model.mean_quiescent_fraction(prim_haloprop = analytic_result_mhost_bins)\n",
      "plt.plot(analytic_result_mhost_bins,\n",
      "         analytic_result_mean_quiescent_fraction, \n",
      "         color='blue', label = 'analytical model')\n",
      "\n",
      "plt.xscale('log')\n",
      "plt.xticks(size=22)\n",
      "plt.yticks(size=18)\n",
      "plt.xlabel(r'$M_{\\rm halo}/M_{\\odot}$', fontsize=25)\n",
      "plt.ylabel('quiescent fraction', fontsize=20)\n",
      "plt.xlim(xmin = 1e12, xmax = 1e15)\n",
      "plt.ylim(ymin = 0.2, ymax=0.9)\n",
      "plt.legend(frameon=False, loc='best', fontsize=20)\n",
      "plt.title('Central galaxy quenching: model vs. mock', fontsize=17)\n"
     ],
     "language": "python",
     "metadata": {},
     "outputs": [
      {
       "metadata": {},
       "output_type": "pyout",
       "prompt_number": 16,
       "text": [
        "<matplotlib.text.Text at 0x1157ce650>"
       ]
      },
      {
       "metadata": {},
       "output_type": "display_data",
       "png": "[encoded data removed]",
       "text": [
        "<matplotlib.figure.Figure at 0x11f43f5d0>"
       ]
      }
     ],
     "prompt_number": 16
    },
    {
     "cell_type": "code",
     "collapsed": false,
     "input": [],
     "language": "python",
     "metadata": {},
     "outputs": [],
     "prompt_number": 35
    },
    {
     "cell_type": "code",
     "collapsed": false,
     "input": [],
     "language": "python",
     "metadata": {},
     "outputs": [],
     "prompt_number": 35
    }
   ],
   "metadata": {}
  }
 ]
}