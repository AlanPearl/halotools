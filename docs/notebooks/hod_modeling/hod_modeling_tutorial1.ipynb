{
 "metadata": {
  "name": "",
  "signature": "sha256:d8b9fa0fd3ce3f32dd2f780ae5151824de885d3be607784361fafdf73c20e261"
 },
 "nbformat": 3,
 "nbformat_minor": 0,
 "worksheets": [
  {
   "cells": [
    {
     "cell_type": "markdown",
     "metadata": {},
     "source": [
      "# Example 1: Building a simple HOD-style model\n"
     ]
    },
    {
     "cell_type": "markdown",
     "metadata": {},
     "source": [
      "This notebook is intended to accompany the corresponding page of the Halotools documentation on HOD-style model building. Although the tutorial on `halotools.readthedocs.org` is in principle comprehensive, there is supplementary material covered here that may provide further clarification. Additionally, by following along with this notebook you can experiment with variations on the models as you learn the basic syntax. \n"
     ]
    },
    {
     "cell_type": "markdown",
     "metadata": {},
     "source": [
      "## Source code for the ``zheng07`` model\n"
     ]
    },
    {
     "cell_type": "code",
     "collapsed": false,
     "input": [
      "from halotools.empirical_models import HodModelFactory\n",
      "\n",
      "from halotools.empirical_models import TrivialPhaseSpace, Zheng07Cens\n",
      "cens_occ_model =  Zheng07Cens()\n",
      "cens_prof_model = TrivialPhaseSpace()\n",
      "\n",
      "from halotools.empirical_models import NFWPhaseSpace, Zheng07Sats\n",
      "sats_occ_model =  Zheng07Sats()\n",
      "sats_prof_model = NFWPhaseSpace()\n",
      "\n",
      "model_instance = HodModelFactory(\n",
      "    centrals_occupation = cens_occ_model, \n",
      "    centrals_profile = cens_prof_model, \n",
      "    satellites_occupation = sats_occ_model, \n",
      "    satellites_profile = sats_prof_model)\n"
     ],
     "language": "python",
     "metadata": {},
     "outputs": [],
     "prompt_number": 2
    },
    {
     "cell_type": "markdown",
     "metadata": {},
     "source": [
      "To populate a fake simulation that is generated on-the-fly:"
     ]
    },
    {
     "cell_type": "code",
     "collapsed": false,
     "input": [
      "model_instance.populate_mock(simname = 'fake')"
     ],
     "language": "python",
     "metadata": {},
     "outputs": [],
     "prompt_number": 5
    },
    {
     "cell_type": "markdown",
     "metadata": {},
     "source": [
      "You can use the `model_instance` to populate any Halotools-formatted simulation. In order for you to be able to run the next few cells, you will need to have downloaded the default Halotools catalog. \n",
      "\n",
      "First note the error raised by the following cell:"
     ]
    },
    {
     "cell_type": "code",
     "collapsed": false,
     "input": [
      "model_instance.populate_mock(simname = 'bolshoi')"
     ],
     "language": "python",
     "metadata": {},
     "outputs": [
      {
       "ename": "HalotoolsError",
       "evalue": "Inconsistency between the simname already bound to the existing mock = ``fake`` and the simname passed as a keyword argument = ``bolshoi``.\nYou should instantiate a new model object if you wish to switch halo catalogs.",
       "output_type": "pyerr",
       "traceback": [
        "\u001b[0;31m---------------------------------------------------------------------------\u001b[0m\n\u001b[0;31mHalotoolsError\u001b[0m                            Traceback (most recent call last)",
        "\u001b[0;32m<ipython-input-7-7bafec8639a1>\u001b[0m in \u001b[0;36m<module>\u001b[0;34m()\u001b[0m\n\u001b[0;32m----> 1\u001b[0;31m \u001b[0mmodel_instance\u001b[0m\u001b[0;34m.\u001b[0m\u001b[0mpopulate_mock\u001b[0m\u001b[0;34m(\u001b[0m\u001b[0msimname\u001b[0m \u001b[0;34m=\u001b[0m \u001b[0;34m'bolshoi'\u001b[0m\u001b[0;34m)\u001b[0m\u001b[0;34m\u001b[0m\u001b[0m\n\u001b[0m",
        "\u001b[0;32m/Users/aphearin/anaconda/lib/python2.7/site-packages/halotools-0.0a0-py2.7-macosx-10.5-x86_64.egg/halotools/empirical_models/factories/hod_model_factory.pyc\u001b[0m in \u001b[0;36mpopulate_mock\u001b[0;34m(self, **kwargs)\u001b[0m\n\u001b[1;32m   1001\u001b[0m \u001b[0;34m\u001b[0m\u001b[0m\n\u001b[1;32m   1002\u001b[0m         \"\"\"\n\u001b[0;32m-> 1003\u001b[0;31m         \u001b[0mModelFactory\u001b[0m\u001b[0;34m.\u001b[0m\u001b[0mpopulate_mock\u001b[0m\u001b[0;34m(\u001b[0m\u001b[0mself\u001b[0m\u001b[0;34m,\u001b[0m \u001b[0;34m**\u001b[0m\u001b[0mkwargs\u001b[0m\u001b[0;34m)\u001b[0m\u001b[0;34m\u001b[0m\u001b[0m\n\u001b[0m\u001b[1;32m   1004\u001b[0m \u001b[0;34m\u001b[0m\u001b[0m\n\u001b[1;32m   1005\u001b[0m \u001b[0;34m\u001b[0m\u001b[0m\n",
        "\u001b[0;32m/Users/aphearin/anaconda/lib/python2.7/site-packages/halotools-0.0a0-py2.7-macosx-10.5-x86_64.egg/halotools/empirical_models/factories/model_factory_template.pyc\u001b[0m in \u001b[0;36mpopulate_mock\u001b[0;34m(self, **kwargs)\u001b[0m\n\u001b[1;32m    159\u001b[0m                 \u001b[0mtest_consistency_with_existing_mock\u001b[0m\u001b[0;34m(\u001b[0m\u001b[0mhalocat\u001b[0m\u001b[0;34m=\u001b[0m\u001b[0mhalocat\u001b[0m\u001b[0;34m)\u001b[0m\u001b[0;34m\u001b[0m\u001b[0m\n\u001b[1;32m    160\u001b[0m             \u001b[0;32melse\u001b[0m\u001b[0;34m:\u001b[0m\u001b[0;34m\u001b[0m\u001b[0m\n\u001b[0;32m--> 161\u001b[0;31m                 \u001b[0mtest_consistency_with_existing_mock\u001b[0m\u001b[0;34m(\u001b[0m\u001b[0;34m**\u001b[0m\u001b[0mkwargs\u001b[0m\u001b[0;34m)\u001b[0m\u001b[0;34m\u001b[0m\u001b[0m\n\u001b[0m\u001b[1;32m    162\u001b[0m         \u001b[0;32melse\u001b[0m\u001b[0;34m:\u001b[0m\u001b[0;34m\u001b[0m\u001b[0m\n\u001b[1;32m    163\u001b[0m             \u001b[0;32mif\u001b[0m \u001b[0muse_fake_sim\u001b[0m \u001b[0;32mis\u001b[0m \u001b[0mTrue\u001b[0m\u001b[0;34m:\u001b[0m\u001b[0;34m\u001b[0m\u001b[0m\n",
        "\u001b[0;32m/Users/aphearin/anaconda/lib/python2.7/site-packages/halotools-0.0a0-py2.7-macosx-10.5-x86_64.egg/halotools/empirical_models/factories/model_factory_template.pyc\u001b[0m in \u001b[0;36mtest_consistency_with_existing_mock\u001b[0;34m(**kwargs)\u001b[0m\n\u001b[1;32m    136\u001b[0m                 \u001b[0msimname\u001b[0m \u001b[0;34m=\u001b[0m \u001b[0msim_defaults\u001b[0m\u001b[0;34m.\u001b[0m\u001b[0mdefault_simname\u001b[0m\u001b[0;34m\u001b[0m\u001b[0m\n\u001b[1;32m    137\u001b[0m             \u001b[0;32mif\u001b[0m \u001b[0msimname\u001b[0m \u001b[0;34m!=\u001b[0m \u001b[0mself\u001b[0m\u001b[0;34m.\u001b[0m\u001b[0mmock\u001b[0m\u001b[0;34m.\u001b[0m\u001b[0msimname\u001b[0m\u001b[0;34m:\u001b[0m\u001b[0;34m\u001b[0m\u001b[0m\n\u001b[0;32m--> 138\u001b[0;31m                 \u001b[0;32mraise\u001b[0m \u001b[0mHalotoolsError\u001b[0m\u001b[0;34m(\u001b[0m\u001b[0minconsistent_simname_error_msg\u001b[0m \u001b[0;34m%\u001b[0m \u001b[0;34m(\u001b[0m\u001b[0mself\u001b[0m\u001b[0;34m.\u001b[0m\u001b[0mmock\u001b[0m\u001b[0;34m.\u001b[0m\u001b[0msimname\u001b[0m\u001b[0;34m,\u001b[0m \u001b[0msimname\u001b[0m\u001b[0;34m)\u001b[0m\u001b[0;34m)\u001b[0m\u001b[0;34m\u001b[0m\u001b[0m\n\u001b[0m\u001b[1;32m    139\u001b[0m \u001b[0;34m\u001b[0m\u001b[0m\n\u001b[1;32m    140\u001b[0m             \u001b[0;32mif\u001b[0m \u001b[0;34m'halo_finder'\u001b[0m \u001b[0;32min\u001b[0m \u001b[0mkwargs\u001b[0m\u001b[0;34m:\u001b[0m\u001b[0;34m\u001b[0m\u001b[0m\n",
        "\u001b[0;31mHalotoolsError\u001b[0m: Inconsistency between the simname already bound to the existing mock = ``fake`` and the simname passed as a keyword argument = ``bolshoi``.\nYou should instantiate a new model object if you wish to switch halo catalogs."
       ]
      }
     ],
     "prompt_number": 7
    },
    {
     "cell_type": "markdown",
     "metadata": {},
     "source": [
      "What's happening the *first* time any composite model instance calls the `populate_mock` method, a halo catalog is loaded into memory, processed into an efficient memory layout, and bound to the model object. This way, when you call the `populate_mock` method multiple times in a row, your successive calls will run *much* faster than the first, which useful for MCMC-type applications. However, when you try and switch simulations for the same model instance, Halotools detects this and requires you to start over. We'll do this now to demonstrate:"
     ]
    },
    {
     "cell_type": "code",
     "collapsed": false,
     "input": [
      "del model_instance\n",
      "\n",
      "model_instance = HodModelFactory(\n",
      "    centrals_occupation = cens_occ_model, \n",
      "    centrals_profile = cens_prof_model, \n",
      "    satellites_occupation = sats_occ_model, \n",
      "    satellites_profile = sats_prof_model)\n"
     ],
     "language": "python",
     "metadata": {},
     "outputs": [],
     "prompt_number": 10
    },
    {
     "cell_type": "code",
     "collapsed": false,
     "input": [
      "model_instance.populate_mock(simname = 'bolshoi')"
     ],
     "language": "python",
     "metadata": {},
     "outputs": [],
     "prompt_number": 11
    },
    {
     "cell_type": "markdown",
     "metadata": {},
     "source": [
      "Note how much faster subsequent calls are:"
     ]
    },
    {
     "cell_type": "code",
     "collapsed": false,
     "input": [
      "model_instance.populate_mock(simname = 'bolshoi')"
     ],
     "language": "python",
     "metadata": {},
     "outputs": [],
     "prompt_number": 12
    },
    {
     "cell_type": "code",
     "collapsed": false,
     "input": [
      "%timeit model_instance.populate_mock(simname = 'bolshoi')"
     ],
     "language": "python",
     "metadata": {},
     "outputs": [
      {
       "output_type": "stream",
       "stream": "stdout",
       "text": [
        "1 loops, best of 3: 227 ms per loop\n"
       ]
      }
     ],
     "prompt_number": 13
    },
    {
     "cell_type": "markdown",
     "metadata": {},
     "source": [
      "Now that you have called the `populate_mock` method, your `model_instance` has a `mock` attribute containing a `galaxy_table` where your synthetic galaxy population is stored in the form of an Astropy Table object:"
     ]
    },
    {
     "cell_type": "code",
     "collapsed": false,
     "input": [
      "print(model_instance.mock.galaxy_table[0:5])"
     ],
     "language": "python",
     "metadata": {},
     "outputs": [
      {
       "output_type": "stream",
       "stream": "stdout",
       "text": [
        "halo_num_centrals halo_num_satellites ...       vz             z      \n",
        "----------------- ------------------- ... -------------- -------------\n",
        "                1                   8 ... -133.186666377  17.778383896\n",
        "                1                   8 ... -465.950284935 17.7790004135\n",
        "                1                   8 ...  276.603734548 17.7099953269\n",
        "                1                   8 ... -556.223462984  17.687134808\n",
        "                1                   8 ... -302.246358215 17.0407000933\n"
       ]
      }
     ],
     "prompt_number": 14
    },
    {
     "cell_type": "markdown",
     "metadata": {},
     "source": [
      "As we will see later in this tutorial, the above syntax applies to *all* Halotools composite models, no matter what their features are. Once you have built a composite model with one of the factories, you can always use the model to populate *any* Halotools-formatted halo catalog with the same syntax. As you change the features of the composite model, this simply changes what columns will be created for the `galaxy_table` storing the mock. "
     ]
    },
    {
     "cell_type": "markdown",
     "metadata": {},
     "source": [
      "## Final example: source code for the ``leauthaud11`` model\n"
     ]
    },
    {
     "cell_type": "code",
     "collapsed": false,
     "input": [
      "from halotools.empirical_models import HodModelFactory\n",
      "\n",
      "from halotools.empirical_models import TrivialPhaseSpace, Leauthaud11Cens\n",
      "another_cens_occ_model =  Leauthaud11Cens()\n",
      "another_cens_prof_model = TrivialPhaseSpace()\n",
      "\n",
      "from halotools.empirical_models import NFWPhaseSpace, Leauthaud11Sats\n",
      "another_sats_occ_model =  Leauthaud11Sats()\n",
      "another_sats_prof_model = NFWPhaseSpace()\n",
      "\n",
      "another_sats_occ_model._suppress_repeated_param_warning = True\n",
      "\n",
      "model_instance = HodModelFactory(\n",
      "    centrals_occupation = another_cens_occ_model, \n",
      "    centrals_profile = another_cens_prof_model, \n",
      "    satellites_occupation = another_sats_occ_model, \n",
      "    satellites_profile = another_sats_prof_model)\n"
     ],
     "language": "python",
     "metadata": {},
     "outputs": [],
     "prompt_number": 15
    },
    {
     "cell_type": "code",
     "collapsed": false,
     "input": [
      "model_instance.populate_mock(simname = 'fake')"
     ],
     "language": "python",
     "metadata": {},
     "outputs": [],
     "prompt_number": 16
    },
    {
     "cell_type": "markdown",
     "metadata": {},
     "source": [
      "The `_suppress_repeated_param_warning` described on the tutorial page is not strictly necessary. In this case, the reason we use it is that ``leauthaud11`` centrals and satellites share common parameters deriving from the `Behroozi10SmHm` component model. To show you that this feature is not necessary, we'll omit it in the following cell and see what happens:"
     ]
    },
    {
     "cell_type": "code",
     "collapsed": false,
     "input": [
      "another_cens_occ_model =  Leauthaud11Cens()\n",
      "another_cens_prof_model = TrivialPhaseSpace()\n",
      "\n",
      "another_sats_occ_model =  Leauthaud11Sats()\n",
      "another_sats_prof_model = NFWPhaseSpace()\n",
      "\n",
      "model_instance = HodModelFactory(\n",
      "    centrals_occupation = another_cens_occ_model, \n",
      "    centrals_profile = another_cens_prof_model, \n",
      "    satellites_occupation = another_sats_occ_model, \n",
      "    satellites_profile = another_sats_prof_model)\n"
     ],
     "language": "python",
     "metadata": {},
     "outputs": [
      {
       "output_type": "stream",
       "stream": "stderr",
       "text": [
        "/Users/aphearin/anaconda/lib/python2.7/site-packages/halotools-0.0a0-py2.7-macosx-10.5-x86_64.egg/halotools/empirical_models/factories/hod_model_factory.py:683: UserWarning: \n",
        "\n",
        "The param_dict key smhm_beta_0 appears in more than one component model.\n",
        "This is permissible, but if you are seeing this message you should be sure you understand it.\n",
        "In particular, double-check that this parameter does not have conflicting meanings across components.\n",
        "\n",
        "If you do not wish to see this message every time you instantiate, \n",
        "simply attach a _suppress_repeated_param_warning attribute \n",
        "to any of your component models and set this variable to ``True``.\n",
        "\n",
        "  warn(msg % key)\n",
        "/Users/aphearin/anaconda/lib/python2.7/site-packages/halotools-0.0a0-py2.7-macosx-10.5-x86_64.egg/halotools/empirical_models/factories/hod_model_factory.py:683: UserWarning: \n",
        "\n",
        "The param_dict key smhm_m1_a appears in more than one component model.\n",
        "This is permissible, but if you are seeing this message you should be sure you understand it.\n",
        "In particular, double-check that this parameter does not have conflicting meanings across components.\n",
        "\n",
        "If you do not wish to see this message every time you instantiate, \n",
        "simply attach a _suppress_repeated_param_warning attribute \n",
        "to any of your component models and set this variable to ``True``.\n",
        "\n",
        "  warn(msg % key)\n",
        "/Users/aphearin/anaconda/lib/python2.7/site-packages/halotools-0.0a0-py2.7-macosx-10.5-x86_64.egg/halotools/empirical_models/factories/hod_model_factory.py:683: UserWarning: \n",
        "\n",
        "The param_dict key smhm_delta_0 appears in more than one component model.\n",
        "This is permissible, but if you are seeing this message you should be sure you understand it.\n",
        "In particular, double-check that this parameter does not have conflicting meanings across components.\n",
        "\n",
        "If you do not wish to see this message every time you instantiate, \n",
        "simply attach a _suppress_repeated_param_warning attribute \n",
        "to any of your component models and set this variable to ``True``.\n",
        "\n",
        "  warn(msg % key)\n",
        "/Users/aphearin/anaconda/lib/python2.7/site-packages/halotools-0.0a0-py2.7-macosx-10.5-x86_64.egg/halotools/empirical_models/factories/hod_model_factory.py:683: UserWarning: \n",
        "\n",
        "The param_dict key smhm_gamma_0 appears in more than one component model.\n",
        "This is permissible, but if you are seeing this message you should be sure you understand it.\n",
        "In particular, double-check that this parameter does not have conflicting meanings across components.\n",
        "\n",
        "If you do not wish to see this message every time you instantiate, \n",
        "simply attach a _suppress_repeated_param_warning attribute \n",
        "to any of your component models and set this variable to ``True``.\n",
        "\n",
        "  warn(msg % key)\n",
        "/Users/aphearin/anaconda/lib/python2.7/site-packages/halotools-0.0a0-py2.7-macosx-10.5-x86_64.egg/halotools/empirical_models/factories/hod_model_factory.py:683: UserWarning: \n",
        "\n",
        "The param_dict key smhm_beta_a appears in more than one component model.\n",
        "This is permissible, but if you are seeing this message you should be sure you understand it.\n",
        "In particular, double-check that this parameter does not have conflicting meanings across components.\n",
        "\n",
        "If you do not wish to see this message every time you instantiate, \n",
        "simply attach a _suppress_repeated_param_warning attribute \n",
        "to any of your component models and set this variable to ``True``.\n",
        "\n",
        "  warn(msg % key)\n",
        "/Users/aphearin/anaconda/lib/python2.7/site-packages/halotools-0.0a0-py2.7-macosx-10.5-x86_64.egg/halotools/empirical_models/factories/hod_model_factory.py:683: UserWarning: \n",
        "\n",
        "The param_dict key smhm_m0_a appears in more than one component model.\n",
        "This is permissible, but if you are seeing this message you should be sure you understand it.\n",
        "In particular, double-check that this parameter does not have conflicting meanings across components.\n",
        "\n",
        "If you do not wish to see this message every time you instantiate, \n",
        "simply attach a _suppress_repeated_param_warning attribute \n",
        "to any of your component models and set this variable to ``True``.\n",
        "\n",
        "  warn(msg % key)\n",
        "/Users/aphearin/anaconda/lib/python2.7/site-packages/halotools-0.0a0-py2.7-macosx-10.5-x86_64.egg/halotools/empirical_models/factories/hod_model_factory.py:683: UserWarning: \n",
        "\n",
        "The param_dict key smhm_m0_0 appears in more than one component model.\n",
        "This is permissible, but if you are seeing this message you should be sure you understand it.\n",
        "In particular, double-check that this parameter does not have conflicting meanings across components.\n",
        "\n",
        "If you do not wish to see this message every time you instantiate, \n",
        "simply attach a _suppress_repeated_param_warning attribute \n",
        "to any of your component models and set this variable to ``True``.\n",
        "\n",
        "  warn(msg % key)\n",
        "/Users/aphearin/anaconda/lib/python2.7/site-packages/halotools-0.0a0-py2.7-macosx-10.5-x86_64.egg/halotools/empirical_models/factories/hod_model_factory.py:683: UserWarning: \n",
        "\n",
        "The param_dict key smhm_gamma_a appears in more than one component model.\n",
        "This is permissible, but if you are seeing this message you should be sure you understand it.\n",
        "In particular, double-check that this parameter does not have conflicting meanings across components.\n",
        "\n",
        "If you do not wish to see this message every time you instantiate, \n",
        "simply attach a _suppress_repeated_param_warning attribute \n",
        "to any of your component models and set this variable to ``True``.\n",
        "\n",
        "  warn(msg % key)\n",
        "/Users/aphearin/anaconda/lib/python2.7/site-packages/halotools-0.0a0-py2.7-macosx-10.5-x86_64.egg/halotools/empirical_models/factories/hod_model_factory.py:683: UserWarning: \n",
        "\n",
        "The param_dict key smhm_m1_0 appears in more than one component model.\n",
        "This is permissible, but if you are seeing this message you should be sure you understand it.\n",
        "In particular, double-check that this parameter does not have conflicting meanings across components.\n",
        "\n",
        "If you do not wish to see this message every time you instantiate, \n",
        "simply attach a _suppress_repeated_param_warning attribute \n",
        "to any of your component models and set this variable to ``True``.\n",
        "\n",
        "  warn(msg % key)\n",
        "/Users/aphearin/anaconda/lib/python2.7/site-packages/halotools-0.0a0-py2.7-macosx-10.5-x86_64.egg/halotools/empirical_models/factories/hod_model_factory.py:683: UserWarning: \n",
        "\n",
        "The param_dict key smhm_delta_a appears in more than one component model.\n",
        "This is permissible, but if you are seeing this message you should be sure you understand it.\n",
        "In particular, double-check that this parameter does not have conflicting meanings across components.\n",
        "\n",
        "If you do not wish to see this message every time you instantiate, \n",
        "simply attach a _suppress_repeated_param_warning attribute \n",
        "to any of your component models and set this variable to ``True``.\n",
        "\n",
        "  warn(msg % key)\n",
        "/Users/aphearin/anaconda/lib/python2.7/site-packages/halotools-0.0a0-py2.7-macosx-10.5-x86_64.egg/halotools/empirical_models/factories/hod_model_factory.py:683: UserWarning: \n",
        "\n",
        "The param_dict key scatter_model_param1 appears in more than one component model.\n",
        "This is permissible, but if you are seeing this message you should be sure you understand it.\n",
        "In particular, double-check that this parameter does not have conflicting meanings across components.\n",
        "\n",
        "If you do not wish to see this message every time you instantiate, \n",
        "simply attach a _suppress_repeated_param_warning attribute \n",
        "to any of your component models and set this variable to ``True``.\n",
        "\n",
        "  warn(msg % key)\n"
       ]
      }
     ],
     "prompt_number": 17
    },
    {
     "cell_type": "markdown",
     "metadata": {},
     "source": [
      "We get a long warning message telling us specifically which parameters in `param_dict` appear in multiple different component models. You will learn more about the role of `param_dict` later in this tutorial. For now, simply observe that the above warning is just a warning, and that you can still populate mocks without a problem:"
     ]
    },
    {
     "cell_type": "code",
     "collapsed": false,
     "input": [
      "model_instance.populate_mock(simname = 'fake')"
     ],
     "language": "python",
     "metadata": {},
     "outputs": [],
     "prompt_number": 18
    },
    {
     "cell_type": "code",
     "collapsed": false,
     "input": [],
     "language": "python",
     "metadata": {},
     "outputs": []
    }
   ],
   "metadata": {}
  }
 ]
}