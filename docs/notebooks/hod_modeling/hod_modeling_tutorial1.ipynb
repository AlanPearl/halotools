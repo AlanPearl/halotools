{
 "metadata": {
  "name": "",
  "signature": "sha256:c328401a0293a0fd09d5c9f5999e5b73fde8b6924515450b86bbfd5a94ef27e1"
 },
 "nbformat": 3,
 "nbformat_minor": 0,
 "worksheets": [
  {
   "cells": [
    {
     "cell_type": "code",
     "collapsed": false,
     "input": [],
     "language": "python",
     "metadata": {},
     "outputs": []
    }
   ],
   "metadata": {}
  }
 ]
}