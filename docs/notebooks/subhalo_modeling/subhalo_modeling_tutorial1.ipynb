{
 "metadata": {
  "name": "",
  "signature": "sha256:6e670f0c0b310f2e6e7229b227635ec0a93a87136f7ad843c7a04b53773e0b81"
 },
 "nbformat": 3,
 "nbformat_minor": 0,
 "worksheets": [
  {
   "cells": [
    {
     "cell_type": "markdown",
     "metadata": {},
     "source": [
      "# Example 1: Building a simple subhalo-based model\n"
     ]
    },
    {
     "cell_type": "markdown",
     "metadata": {},
     "source": [
      "This notebook is intended to accompany the corresponding page of the Halotools documentation on subhalo-based model building. Although the tutorial on `halotools.readthedocs.org` is in principle comprehensive and stand-alone, there is supplementary material covered here that may provide further clarification. By following along with this notebook you can experiment with variations on the models as you learn the basic syntax. This notebook is not stand-alone, and is intended to be read along with its companion tutorial in the documentation. \n"
     ]
    },
    {
     "cell_type": "markdown",
     "metadata": {},
     "source": [
      "## Source code for the ``behroozi10`` model\n"
     ]
    },
    {
     "cell_type": "code",
     "collapsed": false,
     "input": [
      "from halotools.empirical_models import SubhaloModelFactory\n",
      "\n",
      "from halotools.empirical_models import Behroozi10SmHm\n",
      "sm_model =  Behroozi10SmHm(redshift = 0)\n",
      "\n",
      "model_instance = SubhaloModelFactory(stellar_mass = sm_model)\n"
     ],
     "language": "python",
     "metadata": {},
     "outputs": [],
     "prompt_number": 3
    },
    {
     "cell_type": "markdown",
     "metadata": {},
     "source": [
      "To populate a fake simulation that is generated on-the-fly:"
     ]
    },
    {
     "cell_type": "code",
     "collapsed": false,
     "input": [
      "model_instance.populate_mock(simname = 'fake')"
     ],
     "language": "python",
     "metadata": {},
     "outputs": [],
     "prompt_number": 4
    },
    {
     "cell_type": "markdown",
     "metadata": {},
     "source": [
      "You can use the `model_instance` to populate any Halotools-formatted simulation. In order for you to be able to run the next few cells, you will need to have downloaded the default Halotools catalog. \n",
      "\n",
      "First note the error raised by the following cell:"
     ]
    },
    {
     "cell_type": "code",
     "collapsed": false,
     "input": [
      "model_instance.populate_mock(simname = 'bolshoi')"
     ],
     "language": "python",
     "metadata": {},
     "outputs": [
      {
       "ename": "HalotoolsError",
       "evalue": "Inconsistency between the simname already bound to the existing mock = ``fake`` and the simname passed as a keyword argument = ``bolshoi``.\nYou should instantiate a new model object if you wish to switch halo catalogs.",
       "output_type": "pyerr",
       "traceback": [
        "\u001b[0;31m---------------------------------------------------------------------------\u001b[0m\n\u001b[0;31mHalotoolsError\u001b[0m                            Traceback (most recent call last)",
        "\u001b[0;32m<ipython-input-5-7bafec8639a1>\u001b[0m in \u001b[0;36m<module>\u001b[0;34m()\u001b[0m\n\u001b[0;32m----> 1\u001b[0;31m \u001b[0mmodel_instance\u001b[0m\u001b[0;34m.\u001b[0m\u001b[0mpopulate_mock\u001b[0m\u001b[0;34m(\u001b[0m\u001b[0msimname\u001b[0m \u001b[0;34m=\u001b[0m \u001b[0;34m'bolshoi'\u001b[0m\u001b[0;34m)\u001b[0m\u001b[0;34m\u001b[0m\u001b[0m\n\u001b[0m",
        "\u001b[0;32m/Users/aphearin/work/repositories/python/halotools/halotools/empirical_models/factories/subhalo_model_factory.pyc\u001b[0m in \u001b[0;36mpopulate_mock\u001b[0;34m(self, **kwargs)\u001b[0m\n\u001b[1;32m    876\u001b[0m \u001b[0;34m\u001b[0m\u001b[0m\n\u001b[1;32m    877\u001b[0m         \"\"\"\n\u001b[0;32m--> 878\u001b[0;31m         \u001b[0mModelFactory\u001b[0m\u001b[0;34m.\u001b[0m\u001b[0mpopulate_mock\u001b[0m\u001b[0;34m(\u001b[0m\u001b[0mself\u001b[0m\u001b[0;34m,\u001b[0m \u001b[0;34m**\u001b[0m\u001b[0mkwargs\u001b[0m\u001b[0;34m)\u001b[0m\u001b[0;34m\u001b[0m\u001b[0m\n\u001b[0m\u001b[1;32m    879\u001b[0m \u001b[0;34m\u001b[0m\u001b[0m\n",
        "\u001b[0;32m/Users/aphearin/work/repositories/python/halotools/halotools/empirical_models/factories/model_factory_template.pyc\u001b[0m in \u001b[0;36mpopulate_mock\u001b[0;34m(self, **kwargs)\u001b[0m\n\u001b[1;32m    159\u001b[0m                 \u001b[0mtest_consistency_with_existing_mock\u001b[0m\u001b[0;34m(\u001b[0m\u001b[0mhalocat\u001b[0m\u001b[0;34m=\u001b[0m\u001b[0mhalocat\u001b[0m\u001b[0;34m)\u001b[0m\u001b[0;34m\u001b[0m\u001b[0m\n\u001b[1;32m    160\u001b[0m             \u001b[0;32melse\u001b[0m\u001b[0;34m:\u001b[0m\u001b[0;34m\u001b[0m\u001b[0m\n\u001b[0;32m--> 161\u001b[0;31m                 \u001b[0mtest_consistency_with_existing_mock\u001b[0m\u001b[0;34m(\u001b[0m\u001b[0;34m**\u001b[0m\u001b[0mkwargs\u001b[0m\u001b[0;34m)\u001b[0m\u001b[0;34m\u001b[0m\u001b[0m\n\u001b[0m\u001b[1;32m    162\u001b[0m         \u001b[0;32melse\u001b[0m\u001b[0;34m:\u001b[0m\u001b[0;34m\u001b[0m\u001b[0m\n\u001b[1;32m    163\u001b[0m             \u001b[0;32mif\u001b[0m \u001b[0muse_fake_sim\u001b[0m \u001b[0;32mis\u001b[0m \u001b[0mTrue\u001b[0m\u001b[0;34m:\u001b[0m\u001b[0;34m\u001b[0m\u001b[0m\n",
        "\u001b[0;32m/Users/aphearin/work/repositories/python/halotools/halotools/empirical_models/factories/model_factory_template.pyc\u001b[0m in \u001b[0;36mtest_consistency_with_existing_mock\u001b[0;34m(**kwargs)\u001b[0m\n\u001b[1;32m    136\u001b[0m                 \u001b[0msimname\u001b[0m \u001b[0;34m=\u001b[0m \u001b[0msim_defaults\u001b[0m\u001b[0;34m.\u001b[0m\u001b[0mdefault_simname\u001b[0m\u001b[0;34m\u001b[0m\u001b[0m\n\u001b[1;32m    137\u001b[0m             \u001b[0;32mif\u001b[0m \u001b[0msimname\u001b[0m \u001b[0;34m!=\u001b[0m \u001b[0mself\u001b[0m\u001b[0;34m.\u001b[0m\u001b[0mmock\u001b[0m\u001b[0;34m.\u001b[0m\u001b[0msimname\u001b[0m\u001b[0;34m:\u001b[0m\u001b[0;34m\u001b[0m\u001b[0m\n\u001b[0;32m--> 138\u001b[0;31m                 \u001b[0;32mraise\u001b[0m \u001b[0mHalotoolsError\u001b[0m\u001b[0;34m(\u001b[0m\u001b[0minconsistent_simname_error_msg\u001b[0m \u001b[0;34m%\u001b[0m \u001b[0;34m(\u001b[0m\u001b[0mself\u001b[0m\u001b[0;34m.\u001b[0m\u001b[0mmock\u001b[0m\u001b[0;34m.\u001b[0m\u001b[0msimname\u001b[0m\u001b[0;34m,\u001b[0m \u001b[0msimname\u001b[0m\u001b[0;34m)\u001b[0m\u001b[0;34m)\u001b[0m\u001b[0;34m\u001b[0m\u001b[0m\n\u001b[0m\u001b[1;32m    139\u001b[0m \u001b[0;34m\u001b[0m\u001b[0m\n\u001b[1;32m    140\u001b[0m             \u001b[0;32mif\u001b[0m \u001b[0;34m'halo_finder'\u001b[0m \u001b[0;32min\u001b[0m \u001b[0mkwargs\u001b[0m\u001b[0;34m:\u001b[0m\u001b[0;34m\u001b[0m\u001b[0m\n",
        "\u001b[0;31mHalotoolsError\u001b[0m: Inconsistency between the simname already bound to the existing mock = ``fake`` and the simname passed as a keyword argument = ``bolshoi``.\nYou should instantiate a new model object if you wish to switch halo catalogs."
       ]
      }
     ],
     "prompt_number": 5
    },
    {
     "cell_type": "markdown",
     "metadata": {},
     "source": [
      "What's happening the *first* time any composite model instance calls the `populate_mock` method, a halo catalog is loaded into memory, processed into an efficient memory layout, and bound to the model object. This way, when you call the `populate_mock` method multiple times in a row, your successive calls will run *much* faster than the first, which useful for MCMC-type applications. However, when you try and switch simulations for the same model instance, Halotools detects this and requires you to start over with a new instance. We'll do this now to demonstrate:"
     ]
    },
    {
     "cell_type": "code",
     "collapsed": false,
     "input": [
      "del model_instance\n",
      "\n",
      "model_instance = SubhaloModelFactory(stellar_mass = sm_model)\n"
     ],
     "language": "python",
     "metadata": {},
     "outputs": [],
     "prompt_number": 6
    },
    {
     "cell_type": "code",
     "collapsed": false,
     "input": [
      "model_instance.populate_mock(simname = 'bolshoi')"
     ],
     "language": "python",
     "metadata": {},
     "outputs": [],
     "prompt_number": 7
    },
    {
     "cell_type": "markdown",
     "metadata": {},
     "source": [
      "Note how much faster subsequent calls are:"
     ]
    },
    {
     "cell_type": "code",
     "collapsed": false,
     "input": [
      "model_instance.populate_mock(simname = 'bolshoi')"
     ],
     "language": "python",
     "metadata": {},
     "outputs": [],
     "prompt_number": 8
    },
    {
     "cell_type": "code",
     "collapsed": false,
     "input": [
      "%timeit model_instance.populate_mock(simname = 'bolshoi')"
     ],
     "language": "python",
     "metadata": {},
     "outputs": [
      {
       "output_type": "stream",
       "stream": "stdout",
       "text": [
        "1 loops, best of 3: 339 ms per loop\n"
       ]
      }
     ],
     "prompt_number": 9
    },
    {
     "cell_type": "markdown",
     "metadata": {},
     "source": [
      "Now that you have called the `populate_mock` method, your `model_instance` has a `mock` attribute containing a `galaxy_table` where your synthetic galaxy population is stored in the form of an Astropy Table object:"
     ]
    },
    {
     "cell_type": "code",
     "collapsed": false,
     "input": [
      "print(model_instance.mock.galaxy_table[0:5])"
     ],
     "language": "python",
     "metadata": {},
     "outputs": [
      {
       "output_type": "stream",
       "stream": "stdout",
       "text": [
        "halo_upid halo_mpeak  halo_x  halo_y ...   vy      vz   galid stellar_mass\n",
        "--------- ---------- ------- ------- ... ------ ------- ----- ------------\n",
        "       -1  4.443e+10 21.4241 12.9027 ... 330.42    80.6     0   6.8085e+07\n",
        "       -1  9.159e+10 21.2689 12.9744 ... 399.15   73.33     1   7.6912e+08\n",
        "       -1  9.909e+10 19.6521 14.0854 ... 216.81  -315.0     2   4.0504e+08\n",
        "       -1  7.469e+10 20.4365 14.4506 ... 285.96 -263.34     3  1.35992e+08\n",
        "       -1  6.024e+10 20.3154 14.4435 ... 429.55 -326.15     4  1.09347e+08\n"
       ]
      }
     ],
     "prompt_number": 10
    },
    {
     "cell_type": "markdown",
     "metadata": {},
     "source": [
      "As we will see later in this tutorial, the above syntax applies to *all* Halotools composite models, no matter what their features are. Once you have built a composite model with one of the factories, you can always use the model to populate *any* Halotools-formatted halo catalog with the same syntax. As you change the features of the composite model, this simply changes what columns will be created for the `galaxy_table` storing the mock. "
     ]
    },
    {
     "cell_type": "heading",
     "level": 2,
     "metadata": {},
     "source": [
      "What determines the properties in the galaxy table?"
     ]
    },
    {
     "cell_type": "markdown",
     "metadata": {},
     "source": [
      "It is important to realize that the name for the \n",
      "``stellar_mass`` column of the ``galaxy_table`` is *not* determined by the \n",
      "string chosen for the keyword argument passed to the `SubhaloModelFactory`. \n",
      "In all cases, the names for the galaxy properties is determined by the \n",
      "component model instances. \n",
      "In this case, the name ``stellar_mass`` was set in the source code \n",
      "for the `Behroozi10SmHm` class via the ``_galprop_dtypes_to_allocate`` mechanism. \n",
      "We will cover this mechanism in detail later on in this tutorial. For now, \n",
      "we'll just provide an explicit demonstration that the keyword passed to the \n",
      "factory is just a nickname used as an internal bookkeeping device, and does not \n",
      "influence the properties of your mock galaxy population. \n"
     ]
    },
    {
     "cell_type": "code",
     "collapsed": false,
     "input": [
      "sm_model =  Behroozi10SmHm(redshift = 0)\n",
      "\n",
      "model_instance = SubhaloModelFactory(mstar = sm_model)\n"
     ],
     "language": "python",
     "metadata": {},
     "outputs": [],
     "prompt_number": 11
    },
    {
     "cell_type": "code",
     "collapsed": false,
     "input": [
      "model_instance.populate_mock(simname = 'fake')"
     ],
     "language": "python",
     "metadata": {},
     "outputs": [],
     "prompt_number": 12
    },
    {
     "cell_type": "code",
     "collapsed": false,
     "input": [
      "print(model_instance.mock.galaxy_table[0:5])"
     ],
     "language": "python",
     "metadata": {},
     "outputs": [
      {
       "output_type": "stream",
       "stream": "stdout",
       "text": [
        "halo_upid   halo_mpeak      halo_x    ...       vz       galid stellar_mass\n",
        "--------- ------------- ------------- ... -------------- ----- ------------\n",
        "       -1 10000000000.0 238.356419525 ...  128.746372256     0  2.20813e+06\n",
        "       -1 10000000000.0 114.297583082 ... -457.454694597     1  4.18238e+06\n",
        "       -1 10000000000.0 169.758190609 ...   332.83620235     2  1.47292e+06\n",
        "       -1 10000000000.0 154.016143562 ...  204.050095347     3  1.20527e+06\n",
        "   101526 10000000000.0 197.266328297 ... -6.90451725995     4  2.32464e+06\n"
       ]
      }
     ],
     "prompt_number": 13
    },
    {
     "cell_type": "code",
     "collapsed": false,
     "input": [],
     "language": "python",
     "metadata": {},
     "outputs": []
    }
   ],
   "metadata": {}
  }
 ]
}